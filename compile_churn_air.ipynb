{
  "nbformat": 4,
  "nbformat_minor": 0,
  "metadata": {
    "colab": {
      "name": "compile_churn_air.ipynb",
      "provenance": [],
      "collapsed_sections": []
    },
    "kernelspec": {
      "name": "python3",
      "display_name": "Python 3"
    },
    "language_info": {
      "name": "python"
    }
  },
  "cells": [
    {
      "cell_type": "code",
      "execution_count": null,
      "metadata": {
        "id": "a-jcjvyoDP1W"
      },
      "outputs": [],
      "source": [
        "!pip install aisquared\n"
      ]
    },
    {
      "cell_type": "code",
      "source": [
        "import aisquared"
      ],
      "metadata": {
        "id": "ulhElu1jDnpg"
      },
      "execution_count": 2,
      "outputs": []
    },
    {
      "cell_type": "code",
      "source": [
        "# Because this specific analytic requires \n",
        "harvester = aisquared.config.harvesting.TextHarvester(\n",
        "    how = 'regex',   # how to harvest the text\n",
        "    regex = '\\d\\d\\d\\d-\\w\\w\\w\\w\\w' # regex to harvest using\n",
        ")\n",
        "\n",
        "\n",
        "# There are also no preprocessing steps for this analytic\n",
        "preprocesser = None\n",
        "\n",
        "# For the analytic step, we need the DeployedAnalytic class\n",
        "analytic = aisquared.config.analytic.DeployedAnalytic(\n",
        "    url = 'https://v8ngh65skk.execute-api.us-east-1.amazonaws.com/default/lookup_try1A?customerID=',\n",
        "    input_type = 'text',\n",
        "    secret = '',\n",
        "    header = None\n",
        ")\n",
        "\n",
        "# No posptprocessing is required\n",
        "postprocesser = None\n",
        "# list=['churn', 'nochurn']\n",
        "# label_map : list\n",
        "# #List of two values to be mapped to the model outputs\n",
        "# threshold : float ()\n",
        "# #The threshold for the second value to the label map to be the one chosen\n",
        "        \n",
        "        \n",
        "\n",
        "# The DocumentRendering class is used for rendering\n",
        "renderer = aisquared.config.rendering.WordRendering(\n",
        "    word_list = 'input',   # how to retrieve the words to use\n",
        "  #  result_key = 'Predicted Churn',     # how to retrieve results\n",
        "    content_key = 'customerID',   # how to retrieve the contents\n",
        "    badge_shape = 'star',  # badge shape to use\n",
        "    badge_color = 'purple'   # badge color to use\n",
        ")\n",
        "\n",
        "\n",
        "\n",
        "\n",
        "\n",
        "\n",
        "# The SimpleFeedback class is used for rendering prediction correction feedback\n",
        "model_feedback = aisquared.config.feedback.ModelFeedback()\n",
        "model_feedback.add_question('Does this model help you in your workflow?', 'singleChoice', ['yes', 'no'])\n",
        "feedback = aisquared.config.feedback.SimpleFeedback()\n",
        "\n",
        "\n",
        "\n",
        "\n",
        "\n"
      ],
      "metadata": {
        "id": "dFfHAUWSDapD"
      },
      "execution_count": 7,
      "outputs": []
    },
    {
      "cell_type": "code",
      "source": [
        "# Initialize the ModelConfiguration object\n",
        "config = aisquared.config.ModelConfiguration(\n",
        "    name = 'Churn_predictions',                     # the name of the model\n",
        "    harvesting_steps = harvester,                # the harvester\n",
        "    preprocessing_steps = preprocesser,          # the preprocesser\n",
        "    analytic = analytic,                         # the analytic\n",
        "    postprocessing_steps = postprocesser,        # the postprocessing steps\n",
        "    rendering_steps = renderer,                  # the rendering steps\n",
        "    feedback_steps = [model_feedback, feedback]  # prediction feedback\n",
        ")\n",
        "\n",
        "# Run the .compile() methods to create the .air file\n",
        "config.compile()\n",
        "\n",
        "\n",
        "\n",
        "\n"
      ],
      "metadata": {
        "id": "srI9lR-qD3E6"
      },
      "execution_count": 8,
      "outputs": []
    },
    {
      "cell_type": "code",
      "source": [
        "from google.colab import drive\n",
        "drive.mount('/content/drive')"
      ],
      "metadata": {
        "id": "W1k4vzpF6Uw9"
      },
      "execution_count": null,
      "outputs": []
    }
  ]
}
