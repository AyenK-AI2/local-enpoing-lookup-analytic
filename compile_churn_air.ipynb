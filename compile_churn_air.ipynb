{
  "className": "ModelConfiguration",
  "params": {
    "name": "Churn_result_get_request",
    "harvestingSteps": [
      {
        "className": "TextHarvester",
        "params": {
          "how": "regex",
          "regex": "\\d\\d\\d\\d-\\w\\w\\w\\w\\w",
          "flags": "gm"
        }
      }
    ],
    "preprocessingSteps": null,
    "analytics": [
      {
        "className": "DeployedAnalytic",
        "params": {
          "url": "https://v8ngh65skk.execute-api.us-east-1.amazonaws.com/default/lookup_try1A?customerID=",
          "inputType": "text",
          "secret": "\"\"",
          "header": null
        }
      }
    ],
    "postprocessingSteps": null,
    "renderingSteps": [
      {
        "className": "WordRendering",
        "params": {
          "wordList": "input",
          "resultKey": "Predicted Churn",
          "contentKey": "",
          "badgeShape": "star",
          "badgeColor": "purple",
          "classes": null,
          "confidenceThreshold": null,
          "regressionThreshold": null
        }
      }
    ],
    "feedbackSteps": [
      {
        "className": "ModelFeedback",
        "params": {
          "questions": [
            {
              "question": "Does this model help you in your workflow?",
              "answerType": "singleChoice",
              "choices": [
                "yes",
                "no"
              ]
            }
          ]
        }
      },
      {
        "className": "SimpleFeedback",
        "params": {}
      }
    ],
    "stage": "experimental",
    "version": null,
    "description": "",
    "mlflowUri": null,
    "mlflowUser": null,
    "mlflowToken": null,
    "owner": null,
    "url": "*",
    "autoRun": "false"
  }
}
